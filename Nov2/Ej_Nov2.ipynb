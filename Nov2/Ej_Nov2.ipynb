{
 "cells": [
  {
   "cell_type": "markdown",
   "metadata": {},
   "source": [
    "\n",
    "# Encuentra los valores de pendiente y ordenada al origen para el archivo test_line.npy que se encuentra en la carpeta de datos: \n",
    "  - Usa la minimización de chisq. \n",
    "  - Usa tu código de mcmc. \n",
    "  - Compara los resultados, con los valores verdaderos (dados en clase)\n",
    "  - Usa emcee para volver a hacer el proceso de inferencia, y compara con los resultados anteriores. "
   ]
  },
  {
   "cell_type": "code",
   "execution_count": 26,
   "metadata": {},
   "outputs": [],
   "source": [
    "import numpy as np\n",
    "import matplotlib.pyplot as plt"
   ]
  },
  {
   "cell_type": "markdown",
   "metadata": {},
   "source": [
    "Obtenemos los datos"
   ]
  },
  {
   "cell_type": "code",
   "execution_count": 27,
   "metadata": {},
   "outputs": [
    {
     "data": {
      "text/plain": [
       "array([[ 0.00000000e+00,  1.42857143e-01,  2.85714286e-01,\n",
       "         4.28571429e-01,  5.71428571e-01,  7.14285714e-01,\n",
       "         8.57142857e-01,  1.00000000e+00,  1.14285714e+00,\n",
       "         1.28571429e+00,  1.42857143e+00,  1.57142857e+00,\n",
       "         1.71428571e+00,  1.85714286e+00,  2.00000000e+00],\n",
       "       [ 1.96248739e+02,  2.17109545e+02,  2.02438147e+02,\n",
       "         2.20817965e+02,  2.13819395e+02,  2.27251238e+02,\n",
       "         2.17515781e+02,  2.21388623e+02,  2.36648800e+02,\n",
       "         2.40642358e+02,  2.34123099e+02,  2.35261971e+02,\n",
       "         2.50209093e+02,  2.63271434e+02,  2.74829289e+02],\n",
       "       [ 1.76815884e+01, -5.03133689e+00,  1.65857792e+01,\n",
       "         1.37444076e+01,  2.87670665e+00,  6.82112915e+00,\n",
       "         7.36724007e+00,  3.03301838e+01,  4.29012660e+00,\n",
       "         2.52042751e+01, -9.21174822e+00, -1.65378113e+00,\n",
       "        -6.43187287e+00,  1.12999903e+01,  2.35848953e+01]])"
      ]
     },
     "execution_count": 27,
     "metadata": {},
     "output_type": "execute_result"
    }
   ],
   "source": [
    "datos=np.load('test_line.npy')\n",
    "datos"
   ]
  },
  {
   "cell_type": "markdown",
   "metadata": {},
   "source": [
    "Los valores reales son:"
   ]
  },
  {
   "cell_type": "code",
   "execution_count": 28,
   "metadata": {},
   "outputs": [],
   "source": [
    "m = 30 \n",
    "b = 200 "
   ]
  },
  {
   "cell_type": "markdown",
   "metadata": {},
   "source": [
    "Graficamos:"
   ]
  },
  {
   "cell_type": "code",
   "execution_count": 30,
   "metadata": {},
   "outputs": [
    {
     "data": {
      "text/plain": [
       "Text(0, 0.5, 'y')"
      ]
     },
     "execution_count": 30,
     "metadata": {},
     "output_type": "execute_result"
    },
    {
     "data": {
      "image/png": "[encoded data removed]",
      "text/plain": [
       "<Figure size 432x288 with 1 Axes>"
      ]
     },
     "metadata": {
      "needs_background": "light"
     },
     "output_type": "display_data"
    }
   ],
   "source": [
    "x=datos[0]\n",
    "y=datos[1]\n",
    "y_err=np.absolute(datos[2])\n",
    "\n",
    "datastyle = dict(linestyle='none', marker='o', color='k', ecolor='#666666')\n",
    "plt.errorbar(x, y, y_err,**datastyle)\n",
    "plt.xlabel('x')\n",
    "plt.ylabel('y')"
   ]
  },
  {
   "cell_type": "markdown",
   "metadata": {},
   "source": [
    "Obtenemos los parametros de la recta haciendo un ajuste por mínimos cuadrados:"
   ]
  },
  {
   "cell_type": "code",
   "execution_count": 32,
   "metadata": {},
   "outputs": [
    {
     "name": "stdout",
     "output_type": "stream",
     "text": [
      "La pendiente y la ordenada al origen son  30.762307652444452 199.3427240440551\n"
     ]
    }
   ],
   "source": [
    "var = np.vstack([datos[0,:], np.ones(len(datos[0,:]))]).T\n",
    "#obtenemos los parámetros de la recta \n",
    "m, b = np.linalg.lstsq(var, datos[1,:], rcond=None)[0]\n",
    "print('La pendiente y la ordenada al origen son ', m, b)"
   ]
  },
  {
   "cell_type": "markdown",
   "metadata": {},
   "source": [
    "Empezamos con el código MCMC:"
   ]
  },
  {
   "cell_type": "code",
   "execution_count": 6,
   "metadata": {},
   "outputs": [],
   "source": [
    "#Definimos una función que evalue un modelo de linea recta en los valores x\n",
    "# la variabele pars contiene los valores de los parametros m, b de la recta\n",
    "def LineaRecta(pars, x):\n",
    "    return pars[0]*np.array(x) + pars[1]"
   ]
  },
  {
   "cell_type": "code",
   "execution_count": 7,
   "metadata": {},
   "outputs": [],
   "source": [
    "class ModeloLineaRecta(object):\n",
    "    \n",
    "    def __init__(self, x, y, y_err):\n",
    "        self.x = np.asarray(x)\n",
    "        self.y = np.asarray(y)\n",
    "        self.y_err = np.asarray(y_err)\n",
    "\n",
    "    def ln_likelihood(self, pars):\n",
    "        N = len(self.y)\n",
    "        \n",
    "        #dy es la diferencia entre entre los datos exp. y los datos teóricos\n",
    "        dy = self.y - LineaRecta(pars, self.x)\n",
    "        # ivar es 1/varianza\n",
    "        ivar = 1 / self.y_err**2 \n",
    "        return -0.5 * (N*np.log(2*np.pi) + np.sum(2*np.log(self.y_err)) + np.sum(dy**2 * ivar))\n",
    "\n",
    "    def ln_prior(self, pars):\n",
    "        # el prior depende solo de los parámetros, en este caso tendremos un prior plano cuyos parámetros son la pendiente\n",
    "        # y la ordenada al origen del modelo de la linea recta\n",
    "        m, b = pars\n",
    "        ln_prior_val = 0. \n",
    "\n",
    "        if m < 0 or m > 100.:\n",
    "            return -np.inf\n",
    "        else:\n",
    "            0.0\n",
    "\n",
    "        if b < 190 or b > 250:\n",
    "            return -np.inf\n",
    "        else:\n",
    "            0.0\n",
    "        return 0.0\n",
    "    \n",
    "\n",
    "    def ln_posterior(self, pars):\n",
    "        # el log del posterior es la suma del log prior más el log likelihood\n",
    "        lnp = self.ln_prior(pars)        \n",
    "        lnL = self.ln_likelihood(pars)\n",
    "        lnprob = lnp + lnL\n",
    "\n",
    "        return lnprob\n",
    "    \n",
    "    def __call__(self, pars):\n",
    "        return self.ln_posterior(pars)\n",
    "\n",
    "modelo = ModeloLineaRecta(x, y, y_err)"
   ]
  },
  {
   "cell_type": "code",
   "execution_count": 8,
   "metadata": {},
   "outputs": [],
   "source": [
    "def sample_proposal(*sigmas):\n",
    "    return np.random.normal(0., sigmas)\n",
    "\n",
    "#definimos una función que genere samples de la funcion log-posterior partiendo los parametros iniciales.\n",
    "\n",
    "def MCMC(p_init, N_iter, modelo, proposal_sigmas):\n",
    " \n",
    "    #proposal_sigmas es una lista de desviaciones estandar pasadas a la funcion sample_proposal\n",
    "    \n",
    "    #p_init contiene inf. sobre los parametros iniciales m, b\n",
    "    p_init = np.array(p_init)\n",
    "    \n",
    "    #N_iter es el numero de iteraciones \n",
    "    # chain es un objeto que será llenado con los valores de los parametros en cada iteracion\n",
    "    chain = np.zeros((N_iter, len(p_init)))\n",
    "    # ln_probs es un objeto que será llenado con los valores de log-probability en cada iteración\n",
    "    ln_probs = np.zeros(N_iter) \n",
    "    \n",
    "    # esta variable sirve para calcular la fraccion de aceptación\n",
    "    n_accept = 0 \n",
    "    \n",
    "    # aquí evaluamos el log del posterior en el punto inicial y almacenamos ese valor en el elemento 0 de chain\n",
    "    ln_probs[0] = modelo(p_init)\n",
    "    chain[0] = p_init\n",
    "    \n",
    "    # loop sobre el número de iteraciones \n",
    "    for i in range(1,N_iter):\n",
    "        # proponemos un nuevo punto aleatorio\n",
    "        step = sample_proposal(*proposal_sigmas)\n",
    "        new_p = chain[i-1] + step\n",
    "        \n",
    "        # compute log-posterior at new parameter values\n",
    "        new_ln_prob = modelo(new_p)\n",
    "        \n",
    "        # log of the ratio of the new log-posterior to the previous log-posterior value\n",
    "        ln_prob_ratio = new_ln_prob - ln_probs[i-1]\n",
    "        \n",
    "        if (ln_prob_ratio > 0) or (ln_prob_ratio > np.log(np.random.uniform(0,1))):\n",
    "            chain[i] = new_p\n",
    "            ln_probs[i] = new_ln_prob\n",
    "            n_accept += 1\n",
    "            \n",
    "        else:\n",
    "            chain[i] = chain[i-1]\n",
    "            ln_probs[i] = ln_probs[i-1]\n",
    "    \n",
    "    acc_frac = n_accept / N_iter\n",
    "    print(\"El nuevo punto es: \",new_p)\n",
    "    \n",
    "    return chain, ln_probs, acc_frac\n",
    " "
   ]
  },
  {
   "cell_type": "code",
   "execution_count": 9,
   "metadata": {},
   "outputs": [
    {
     "name": "stdout",
     "output_type": "stream",
     "text": [
      "El nuevo punto es:  [ 21.19722735 202.86276432]\n",
      "Acceptance fraction: 96.2%\n"
     ]
    }
   ],
   "source": [
    "p_init = [35,210]\n",
    "chain,_,acc_frac = MCMC(p_init, N_iter=10000, modelo=modelo, proposal_sigmas=[0.05,0.05])\n",
    "print(\"Acceptance fraction: {:.1%}\".format(acc_frac))"
   ]
  },
  {
   "cell_type": "code",
   "execution_count": 10,
   "metadata": {},
   "outputs": [
    {
     "data": {
      "text/plain": [
       "Text(0, 0.5, '$b$')"
      ]
     },
     "execution_count": 10,
     "metadata": {},
     "output_type": "execute_result"
    },
    {
     "data": {
      "image/png": "[encoded data removed]",
      "text/plain": [
       "<Figure size 360x360 with 1 Axes>"
      ]
     },
     "metadata": {
      "needs_background": "light"
     },
     "output_type": "display_data"
    }
   ],
   "source": [
    "fig,ax = plt.subplots(1, 1, figsize=(5,5))\n",
    "ax.plot(m, b, marker='o', zorder=10, color='#de2d26')\n",
    "#ax.plot(chain[:512,0], chain[:512,1], marker='', color='k', linewidth=1.)\n",
    "\n",
    "plt.scatter(chain[:400,0], chain[:400,1], c='b')\n",
    "ax.set_xlabel('$m$')\n",
    "ax.set_ylabel('$b$')"
   ]
  },
  {
   "cell_type": "markdown",
   "metadata": {},
   "source": [
    "Obtenemos los parámetros de la recta utilizando la libreria emcee"
   ]
  },
  {
   "cell_type": "code",
   "execution_count": null,
   "metadata": {},
   "outputs": [],
   "source": []
  }
 ],
 "metadata": {
  "kernelspec": {
   "display_name": "Python 3",
   "language": "python",
   "name": "python3"
  },
  "language_info": {
   "codemirror_mode": {
    "name": "ipython",
    "version": 3
   },
   "file_extension": ".py",
   "mimetype": "text/x-python",
   "name": "python",
   "nbconvert_exporter": "python",
   "pygments_lexer": "ipython3",
   "version": "3.6.10"
  }
 },
 "nbformat": 4,
 "nbformat_minor": 4
}
