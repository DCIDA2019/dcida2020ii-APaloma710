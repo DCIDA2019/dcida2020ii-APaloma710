{
 "cells": [
  {
   "cell_type": "markdown",
   "metadata": {},
   "source": [
    "$\\textbf{Tarea 16 de Octubre}$\n",
    "\n",
    "$\\textit{Las catafixias de Chabelo: Hay tres puertas, detrás de una hay un premio; supongamos que elijes la puerta 2, Chabelo abré la puerta 1 y ahí no hay premio, ¿Te quedas con tú elección original o cambias a la puerta 3?}$\n",
    "\n",
    "Justifica tú respuseta con Teorema de Bayes"
   ]
  },
  {
   "cell_type": "markdown",
   "metadata": {},
   "source": [
    "Dado el enunciado, podemos traducir el problema a la pregunta:\n",
    "\n",
    "¿Cuál es la probabilidad de que el premio este en la puerta No.2? dado que tengo evidencia de que no esta en la puerta 1.\n",
    "\n",
    "Definamos:\n",
    "\n",
    "$P(A) \\equiv$ probabilidad de que la puerta 2 tenga un premio $\\\\$\n",
    "$P(T) \\equiv$ evidencia de que no hay premio en la puerta 1   \n",
    "\n",
    "y también:\n",
    "\n",
    "$P(A \\mid T) \\equiv$ probabilidad condicional de A dado T, es decir, probabilidad de encontrar premio en la puerta 2 dado que no hay premio en la puerta 1\n",
    "\n",
    "además también será útil definir:\n",
    "\n",
    "$P(\\sim A) \\equiv $ probabilidad de que la puerta 2 no tenga premio\n",
    "\n",
    "con está información, podemos conocer $P(A \\mid T)$ utilizando el teorema de Bayes:\n",
    "\n",
    "$$\n",
    "P(A \\mid T) = \\frac{P(T \\mid A) P(A)}{P(T)} = \\frac{P(T \\mid A)P(A)}{P(T \\mid A)P(A) + P(T \\mid \\sim A)P(\\sim A)}\n",
    "$$\n",
    "\n",
    "ahora, sabemos que en total tenemos tres puertas, por lo que la probabilidad, $P(A) $, de obtener premio luego de que elegí una de ellas es $1/3$, además la probabilidad complementaria $P(\\sim A) $ es $2/3$. Por otro lado la probabilidad, $P(T \\mid A)$, de que Chabelo muestre una puerta sin premio dado que en la puerta 2 hay premio es igual a 1, debido tenemos evidencia de que Chabelo abrió la puerta 1 y no hay premio ahí. Del mismo modo, la probabilidad de $P(T \\mid \\sim  A)$, de que Chabelo muestre una puerta sin premio dado que en la puerta 2 no hay premio es también igual a 1, dado que Chabelo siempre muestra una puerta sin premio. Ahora sustiyamos estos valores en la ecuación anterior:\n",
    "\n",
    "$$\n",
    "P(A \\mid T) = \\frac{(1 \\times 1/3)}{(1 \\times 1/3) + (1 \\times 2/3)}= 1/3\n",
    "$$\n",
    "\n",
    "\n"
   ]
  },
  {
   "cell_type": "markdown",
   "metadata": {},
   "source": [
    "El premio solo puede estar en la puerta 2 o en la puerta que Chabelo no reveló, entonces podemos concluir que la probabilidad de que el premio este en la puerta no revelada es de 2/3, por lo tanto cambiar de elección duplica nuestras oportunidades de encontrar el premio.\n"
   ]
  },
  {
   "cell_type": "markdown",
   "metadata": {},
   "source": [
    "$\\textbf{Derive Bayes theorem from}$\n",
    "\n",
    "$$\n",
    "P(x,y) = P(y,x)\n",
    "$$"
   ]
  },
  {
   "cell_type": "markdown",
   "metadata": {},
   "source": [
    "Partiendo de la ecuación:\n",
    "\n",
    "$$\n",
    "P(x,y) = P(y,x) \n",
    "$$\n",
    "\n",
    "$$\n",
    "P(x \\cap y) = P(y \\cap x)\n",
    "$$\n",
    "\n",
    "Luego, utilizando la definición de probabilidad condicional, i.e. $P(x \\cap y) = P (x | y)P(y)$, para reescribir ambos lados de la ecuación anterior, tenemos:\n",
    "\n",
    "$$\n",
    "P (x | y)P(y) = P (y | x)P(x)\n",
    "$$\n",
    "\n",
    "Despejamos $P(x | y)$:\n",
    "\n",
    "$$\n",
    "P (x | y) = \\frac{P (y | x)P(x)}{P(y)}\n",
    "$$\n",
    "\n"
   ]
  },
  {
   "cell_type": "markdown",
   "metadata": {},
   "source": [
    "$\\textbf{MCMC Metropolis Algorithm}$"
   ]
  },
  {
   "cell_type": "markdown",
   "metadata": {},
   "source": [
    "1. Define an starting point of the parameters. Compute its posterior, and reserve it."
   ]
  },
  {
   "cell_type": "code",
   "execution_count": 83,
   "metadata": {},
   "outputs": [],
   "source": [
    "import numpy as np\n",
    "import matplotlib.pyplot as plt"
   ]
  },
  {
   "cell_type": "code",
   "execution_count": 84,
   "metadata": {},
   "outputs": [],
   "source": [
    "#Definimos los parametros del modelo\n",
    "np.random.seed(42)\n",
    "mu = 30\n",
    "m = 30\n",
    "b = 0.5\n",
    "sigma = 0.5\n",
    "#generamos un conjunto de datos que esten relacionados linealmente\n",
    "\n",
    "x_dat = 100*np.random.random(20)\n",
    "y_dat = b + m * x_dat"
   ]
  },
  {
   "cell_type": "code",
   "execution_count": 85,
   "metadata": {},
   "outputs": [],
   "source": [
    "x_dat = np.random.normal(x_dat, 10)\n",
    "y_dat = np.random.normal(y_dat, 10)"
   ]
  },
  {
   "cell_type": "code",
   "execution_count": 86,
   "metadata": {},
   "outputs": [
    {
     "data": {
      "text/plain": [
       "Text(0, 0.5, 'y ')"
      ]
     },
     "execution_count": 86,
     "metadata": {},
     "output_type": "execute_result"
    },
    {
     "data": {
      "image/png": "[encoded data removed]",
      "text/plain": [
       "<Figure size 432x288 with 1 Axes>"
      ]
     },
     "metadata": {
      "needs_background": "light"
     },
     "output_type": "display_data"
    }
   ],
   "source": [
    "plt.plot(x_dat, y_dat, '^k', label= 'Data')\n",
    "plt.title('Linear Relation')\n",
    "plt.legend()\n",
    "plt.xlabel('x ')\n",
    "plt.ylabel('y ')\n"
   ]
  },
  {
   "cell_type": "markdown",
   "metadata": {},
   "source": [
    "The posterior probability distribution function,  in general,  is the likeli-hood  times  the  prior,  properly  normalized.   In  this  case,  the  posterior  we are interested in is that for the line parameters (m,b).\n",
    "Let $\\theta$ be the model parameters and $\\textbf{D}$ the evidence or data. The prior probability is given by:\n",
    "\n",
    "$$\n",
    "P(\\theta \\mid D) = \\frac{P(D \\mid \\theta) P(\\theta)}{P(D)}\n",
    "$$\n",
    "\n",
    "where $P(D \\mid \\theta)$ is the likelihood, $P(\\theta)$ is the prior probability and $P(D)$ is the evidence. From this expresion we can see that, to compute the posterior probability we need to know the prior probability and the likelihood. Let's define a function to estimate the logarith of likelihood, given analitically by:\n",
    "\n",
    "$$\n",
    "- \\ln\\left [ L(x,y| \\theta) \\right ] = 1/2 \\sum_{i}\\left [ \\frac{(y_{i}-\\lambda(x_{i},\\theta))^{2}}{\\sigma^{2}} \\right ] + \\ln \\left (  \\frac{1}{2 \\pi \\sigma^{2}} \\right)\n",
    "$$"
   ]
  },
  {
   "cell_type": "code",
   "execution_count": 87,
   "metadata": {},
   "outputs": [],
   "source": [
    "#Estimaremos el posterior definiendo funciones para el likelihood y prior.\n",
    "\n",
    "def ln_likelihood(theta, x_dat, y_dat):\n",
    "    m, b, sigma = theta\n",
    "    y_mod = m * x_dat + b\n",
    "    return -0.5 * np.sum((y_dat - y_mod) ** 2 / sigma** 2 + np.log(2*np.pi*sigma**2))\n"
   ]
  },
  {
   "cell_type": "markdown",
   "metadata": {},
   "source": [
    "The prior function encodes any previous knowledge that we have about the parameters"
   ]
  },
  {
   "cell_type": "code",
   "execution_count": 88,
   "metadata": {},
   "outputs": [],
   "source": [
    "# Definimos la función prior\n",
    "\n",
    "def ln_prior(theta):\n",
    "    m, b, sigma = theta\n",
    "    if -5.0 < m < 0.5 and 0.0 < b < 10.0 and -10.0 < sigma < 1.0:\n",
    "        return 0.0\n",
    "    return -np.inf\n",
    "    "
   ]
  },
  {
   "cell_type": "code",
   "execution_count": 89,
   "metadata": {},
   "outputs": [],
   "source": [
    "# Con estas funciones definimos el posterior\n",
    "def ln_posterior(theta, x_dat, y_dat):\n",
    "    return ln_prior(theta) + ln_likelihood(theta, x_dat, y_dat)"
   ]
  },
  {
   "cell_type": "markdown",
   "metadata": {},
   "source": [
    "2. Draw a sample parameter from a normal distribution centered in the starting point, and with some σ dispersion"
   ]
  },
  {
   "cell_type": "code",
   "execution_count": 91,
   "metadata": {},
   "outputs": [],
   "source": [
    "# generamos un nuevo punto, theta_0, en el espacio de los parámetros a partir de una distribución Gaussiana centrada\n",
    "# en el punto (mu, sigma) definido previamente\n",
    "theta_0\n",
    "\n",
    "def GaussianPrior(theta):\n",
    "    m, b, sigma = theta\n",
    "    \n",
    "    \n",
    "\n",
    "GaussianMod_prior = GaussianPrior(theta)\n",
    "\n",
    "#"
   ]
  }
 ],
 "metadata": {
  "kernelspec": {
   "display_name": "Python 3",
   "language": "python",
   "name": "python3"
  },
  "language_info": {
   "codemirror_mode": {
    "name": "ipython",
    "version": 3
   },
   "file_extension": ".py",
   "mimetype": "text/x-python",
   "name": "python",
   "nbconvert_exporter": "python",
   "pygments_lexer": "ipython3",
   "version": "3.6.10"
  }
 },
 "nbformat": 4,
 "nbformat_minor": 4
}
