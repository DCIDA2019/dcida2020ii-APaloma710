{
 "cells": [
  {
   "cell_type": "markdown",
   "metadata": {},
   "source": [
    "$\\textbf{Tarea 16 de Octubre}$\n",
    "\n",
    "$\\textit{Las catafixias de Chabelo: Hay tres puertas, detrás de una hay un premio; supongamos que elijes la puerta 2, Chabelo abré la puerta 1 y ahí no hay premio, ¿Te quedas con tú elección original o cambias a la puerta 3?}$\n",
    "\n",
    "Justifica tú respuesta con Teorema de Bayes"
   ]
  },
  {
   "cell_type": "markdown",
   "metadata": {},
   "source": [
    "Dado el enunciado, podemos traducir el problema a la pregunta:\n",
    "\n",
    "¿Cuál es la probabilidad de que el premio este en la puerta No.2? dado que tengo evidencia de que no esta en la puerta 1.\n",
    "\n",
    "Definamos:\n",
    "\n",
    "$P(A) \\equiv$ probabilidad de que la puerta 2 tenga un premio $\\\\$\n",
    "$P(T) \\equiv$ evidencia de que no hay premio en la puerta 1   \n",
    "\n",
    "y también:\n",
    "\n",
    "$P(A \\mid T) \\equiv$ probabilidad condicional de A dado T, es decir, probabilidad de encontrar premio en la puerta 2 dado que no hay premio en la puerta 1\n",
    "\n",
    "además también será útil definir:\n",
    "\n",
    "$P(\\sim A) \\equiv $ probabilidad de que la puerta 2 no tenga premio\n",
    "\n",
    "con está información, podemos conocer $P(A \\mid T)$ utilizando el teorema de Bayes:\n",
    "\n",
    "$$\n",
    "P(A \\mid T) = \\frac{P(T \\mid A) P(A)}{P(T)} = \\frac{P(T \\mid A)P(A)}{P(T \\mid A)P(A) + P(T \\mid \\sim A)P(\\sim A)}\n",
    "$$\n",
    "\n",
    "ahora, sabemos que en total tenemos tres puertas, por lo que la probabilidad, $P(A) $, de obtener premio luego de que elegí una de ellas es $1/3$, además la probabilidad complementaria $P(\\sim A) $ es $2/3$. Por otro lado la probabilidad, $P(T \\mid A)$, de que Chabelo muestre una puerta sin premio dado que en la puerta 2 hay premio es igual a 1, debido tenemos evidencia de que Chabelo abrió la puerta 1 y no hay premio ahí. Del mismo modo, la probabilidad de $P(T \\mid \\sim  A)$, de que Chabelo muestre una puerta sin premio dado que en la puerta 2 no hay premio es también igual a 1, dado que Chabelo siempre muestra una puerta sin premio. Ahora sustiyamos estos valores en la ecuación anterior:\n",
    "\n",
    "$$\n",
    "P(A \\mid T) = \\frac{(1 \\times 1/3)}{(1 \\times 1/3) + (1 \\times 2/3)}= 1/3\n",
    "$$\n",
    "\n",
    "\n"
   ]
  },
  {
   "cell_type": "markdown",
   "metadata": {},
   "source": [
    "El premio solo puede estar en la puerta 2 o en la puerta que Chabelo no reveló, entonces podemos concluir que la probabilidad de que el premio este en la puerta no revelada es de 2/3, por lo tanto cambiar de elección duplica nuestras oportunidades de encontrar el premio.\n"
   ]
  },
  {
   "cell_type": "markdown",
   "metadata": {},
   "source": [
    "$\\textbf{Derive Bayes theorem from}$\n",
    "\n",
    "$$\n",
    "P(x,y) = P(y,x)\n",
    "$$"
   ]
  },
  {
   "cell_type": "markdown",
   "metadata": {},
   "source": [
    "Partiendo de la ecuación:\n",
    "\n",
    "$$\n",
    "P(x,y) = P(y,x) \n",
    "$$\n",
    "\n",
    "$$\n",
    "P(x \\cap y) = P(y \\cap x)\n",
    "$$\n",
    "\n",
    "Luego, utilizando la definición de probabilidad condicional, i.e. $P(x \\cap y) = P (x | y)P(y)$, para reescribir ambos lados de la ecuación anterior, tenemos:\n",
    "\n",
    "$$\n",
    "P (x | y)P(y) = P (y | x)P(x)\n",
    "$$\n",
    "\n",
    "Despejamos $P(x | y)$:\n",
    "\n",
    "$$\n",
    "P (x | y) = \\frac{P (y | x)P(x)}{P(y)}\n",
    "$$\n",
    "\n"
   ]
  },
  {
   "cell_type": "markdown",
   "metadata": {},
   "source": [
    "$\\textbf{MCMC Metropolis Algorithm}$"
   ]
  },
  {
   "cell_type": "markdown",
   "metadata": {},
   "source": [
    "1. Define an starting point of the parameters. Compute its posterior, and reserve it."
   ]
  },
  {
   "cell_type": "code",
   "execution_count": 189,
   "metadata": {},
   "outputs": [],
   "source": [
    "import numpy as np\n",
    "import matplotlib.pyplot as plt"
   ]
  },
  {
   "cell_type": "code",
   "execution_count": 190,
   "metadata": {},
   "outputs": [],
   "source": [
    "#Definimos los parametros del modelo\n",
    "np.random.seed(42)\n",
    "m = 30\n",
    "b = 5\n",
    "sigma = 0.5\n",
    "\n",
    "#generamos un conjunto de datos que esten relacionados linealmente\n",
    "x_dat = 100*np.random.random(20)\n",
    "y_dat = b + m * x_dat"
   ]
  },
  {
   "cell_type": "code",
   "execution_count": 191,
   "metadata": {},
   "outputs": [],
   "source": [
    "x_dat = np.random.normal(x_dat, 10)\n",
    "y_dat = np.random.normal(y_dat, 10)"
   ]
  },
  {
   "cell_type": "code",
   "execution_count": 192,
   "metadata": {},
   "outputs": [
    {
     "data": {
      "text/plain": [
       "Text(0, 0.5, 'y ')"
      ]
     },
     "execution_count": 192,
     "metadata": {},
     "output_type": "execute_result"
    },
    {
     "data": {
      "image/png": "[encoded data removed]",
      "text/plain": [
       "<Figure size 432x288 with 1 Axes>"
      ]
     },
     "metadata": {
      "needs_background": "light"
     },
     "output_type": "display_data"
    }
   ],
   "source": [
    "plt.plot(x_dat, y_dat, '^k', label= 'Data')\n",
    "plt.title('Linear Relation')\n",
    "plt.legend()\n",
    "plt.xlabel('x ')\n",
    "plt.ylabel('y ')"
   ]
  },
  {
   "cell_type": "markdown",
   "metadata": {},
   "source": [
    "The posterior probability distribution function,  in general,  is the likeli-hood  times  the  prior,  properly  normalized.   In  this  case,  the  posterior  we are interested in is that for the line parameters (m,b).\n",
    "Let $\\theta$ be the model parameters and $\\textbf{D}$ the evidence or data. The prior probability is given by:\n",
    "\n",
    "$$\n",
    "P(\\theta \\mid D) = \\frac{P(D \\mid \\theta) P(\\theta)}{P(D)}\n",
    "$$\n",
    "\n",
    "where $P(D \\mid \\theta)$ is the likelihood, $P(\\theta)$ is the prior probability and $P(D)$ is the evidence. From this expresion we can see that, to compute the posterior probability we need to know the prior probability and the likelihood. Let's define a function to estimate the logarith of likelihood, given analitically by:\n",
    "\n",
    "$$\n",
    "- \\ln\\left [ L(x,y| \\theta) \\right ] = 1/2 \\sum_{i}\\left [ \\frac{(y_{i}-\\lambda(x_{i},\\theta))^{2}}{\\sigma^{2}} \\right ] + \\ln \\left (  \\frac{1}{2 \\pi \\sigma^{2}} \\right)\n",
    "$$"
   ]
  },
  {
   "cell_type": "code",
   "execution_count": 193,
   "metadata": {},
   "outputs": [],
   "source": [
    "#Estimaremos el posterior definiendo funciones para el likelihood y prior.\n",
    "\n",
    "def ln_likelihood(theta, x_dat, y_dat):\n",
    "    m, b, sigma = theta\n",
    "    y_mod = m * x_dat + b\n",
    "    return -0.5 * np.sum((y_dat - y_mod) ** 2 / sigma** 2 + np.log(2*np.pi*sigma**2))"
   ]
  },
  {
   "cell_type": "markdown",
   "metadata": {},
   "source": [
    "The prior function encodes any previous knowledge that we have about the parameters"
   ]
  },
  {
   "cell_type": "code",
   "execution_count": 194,
   "metadata": {},
   "outputs": [],
   "source": [
    "# Definimos la función prior\n",
    "\n",
    "def ln_prior(theta):\n",
    "    m, b, sigma = theta\n",
    "    if 0 < m < 40 and 0.0 < b < 40 :\n",
    "        return 0.0\n",
    "    return -np.inf"
   ]
  },
  {
   "cell_type": "code",
   "execution_count": 195,
   "metadata": {},
   "outputs": [
    {
     "name": "stdout",
     "output_type": "stream",
     "text": [
      "El posterior del punto de inicio es: -14995628.621023567\n"
     ]
    }
   ],
   "source": [
    "# Con estas funciones definimos el posterior\n",
    "def ln_posterior(theta, x_dat, y_dat):\n",
    "    return ln_prior(theta) + ln_likelihood(theta, x_dat, y_dat)\n",
    "\n",
    "P_original = ln_posterior(theta, x_dat, y_dat)\n",
    "print('El posterior del punto de inicio es:', P_new)"
   ]
  },
  {
   "cell_type": "markdown",
   "metadata": {},
   "source": [
    "2. Draw a sample parameter from a normal distribution centered in the starting point, and with some σ dispersion"
   ]
  },
  {
   "cell_type": "code",
   "execution_count": 196,
   "metadata": {},
   "outputs": [
    {
     "name": "stdout",
     "output_type": "stream",
     "text": [
      "m_new es = 25.803912383886807\n",
      "b_new es = 28.453938120743928\n",
      "El posterior del nuevo punto es: -14995628.621023567\n"
     ]
    }
   ],
   "source": [
    "# generamos un nuevo punto (m_new, b_new) en el espacio de los parámetros a partir de una distribución Gaussiana centrada\n",
    "# en el punto (m, b) definido previamente\n",
    "\n",
    "#punto nuevo\n",
    "m_new = np.random.normal(m, 5)\n",
    "b_new = np.random.normal(m, 5)\n",
    "print('m_new es =', m_new)\n",
    "print('b_new es =', b_new)\n",
    "sigma_new = 0.3\n",
    "\n",
    "theta_new = m_new, b_new, sigma_new\n",
    "\n",
    "#evaluamos el posterior del nuevo punto (m_new, b_new)\n",
    "P_new = ln_posterior(theta_new, x_dat, y_dat)\n",
    "print('El posterior del nuevo punto es:', P_new)"
   ]
  },
  {
   "cell_type": "markdown",
   "metadata": {},
   "source": [
    "3. If the Posterior of the new sample, P(new) is higher than the intial one, P(old),  we accept the sample  and save it. Old —-> New."
   ]
  },
  {
   "cell_type": "code",
   "execution_count": 197,
   "metadata": {},
   "outputs": [],
   "source": [
    "if P_new > P_original:\n",
    "    theta = theta_new"
   ]
  },
  {
   "cell_type": "markdown",
   "metadata": {},
   "source": [
    "4. If the Posterior of the new sample is lower than the old one: draw a random number between 0-1, if p(new)/p(old) is larger than such number then we accept it (New—>old), not otherwise. (Old remains). Always save the value of the parameters, regardless it was repeated"
   ]
  },
  {
   "cell_type": "code",
   "execution_count": 199,
   "metadata": {},
   "outputs": [],
   "source": [
    "if P_new < P_original:\n",
    "    N = np.random.uniform(0,1)\n",
    "    if P_new / P_original > N:\n",
    "        \n",
    "        \n",
    "        "
   ]
  },
  {
   "cell_type": "code",
   "execution_count": null,
   "metadata": {},
   "outputs": [],
   "source": []
  },
  {
   "cell_type": "code",
   "execution_count": null,
   "metadata": {},
   "outputs": [],
   "source": []
  }
 ],
 "metadata": {
  "kernelspec": {
   "display_name": "Python 3",
   "language": "python",
   "name": "python3"
  },
  "language_info": {
   "codemirror_mode": {
    "name": "ipython",
    "version": 3
   },
   "file_extension": ".py",
   "mimetype": "text/x-python",
   "name": "python",
   "nbconvert_exporter": "python",
   "pygments_lexer": "ipython3",
   "version": "3.6.10"
  }
 },
 "nbformat": 4,
 "nbformat_minor": 4
}
