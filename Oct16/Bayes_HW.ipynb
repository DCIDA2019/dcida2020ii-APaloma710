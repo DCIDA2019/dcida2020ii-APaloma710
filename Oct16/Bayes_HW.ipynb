{
 "cells": [
  {
   "cell_type": "markdown",
   "metadata": {},
   "source": [
    "$\\textbf{Tarea 16 de Octubre}$\n",
    "\n",
    "$\\textit{Las catafixias de Chabelo: Hay tres puertas detras de una hay un premio, supongamos que elijes la puerta 2, Chabelo abré la puerta 1 y ahí no hay premio, ¿Te quedas con tú elección original o cambias a la puerta 3?}$\n",
    "\n",
    "Justifica tú respuseta con Teorema de Bayes"
   ]
  },
  {
   "cell_type": "markdown",
   "metadata": {},
   "source": [
    "Dado el enunciado, podemos traducir el problema a la pregunta:\n",
    "\n",
    "¿Cuál es la probabilidad de que el premio este en la puerta No.2? dado que tengo evidencia de que no esta en la puerta 1.\n",
    "\n",
    "Definamos:\n",
    "\n",
    "$P(A) \\equiv$ probabilidad de que la puerta 2 tenga un premio $\\\\$\n",
    "$P(T) \\equiv$ evidencia de que no hay premio en la puerta 1   \n",
    "\n",
    "y también:\n",
    "\n",
    "$P(A \\mid T) \\equiv$ probabilidad condicional de A dado T, es decir, probabilidad de encontrar premio en la puerta 2 dado que no hay premio en la puerta 1\n",
    "\n",
    "además también será útil definir:\n",
    "\n",
    "$P(\\sim A) \\equiv $ probabilidad de que la puerta 2 no tenga premio\n",
    "\n",
    "con está información, podemos conocer $P(A \\mid T) \\equiv$ utilizando el teorema de Bayes:\n",
    "\n",
    "$$\n",
    "P(A \\mid T) = \\frac{P(T \\mid A) P(A)}{P(T)} \n",
    "$$"
   ]
  }
 ],
 "metadata": {
  "kernelspec": {
   "display_name": "Python 3",
   "language": "python",
   "name": "python3"
  },
  "language_info": {
   "codemirror_mode": {
    "name": "ipython",
    "version": 3
   },
   "file_extension": ".py",
   "mimetype": "text/x-python",
   "name": "python",
   "nbconvert_exporter": "python",
   "pygments_lexer": "ipython3",
   "version": "3.6.10"
  }
 },
 "nbformat": 4,
 "nbformat_minor": 4
}
