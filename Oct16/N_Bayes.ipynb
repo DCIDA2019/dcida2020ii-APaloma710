{
 "cells": [
  {
   "cell_type": "markdown",
   "metadata": {},
   "source": [
    "# Tarea 16 de Octubre"
   ]
  },
  {
   "cell_type": "code",
   "execution_count": 35,
   "metadata": {},
   "outputs": [],
   "source": [
    "import numpy as np\n",
    "import matplotlib.pyplot as plt"
   ]
  },
  {
   "cell_type": "code",
   "execution_count": 36,
   "metadata": {},
   "outputs": [
    {
     "data": {
      "text/plain": [
       "Text(0, 0.5, 'y')"
      ]
     },
     "execution_count": 36,
     "metadata": {},
     "output_type": "execute_result"
    },
    {
     "data": {
      "image/png": "[encoded data removed]",
      "text/plain": [
       "<Figure size 432x288 with 1 Axes>"
      ]
     },
     "metadata": {
      "needs_background": "light"
     },
     "output_type": "display_data"
    }
   ],
   "source": [
    "n = 20 # number of data points\n",
    "m = 1.255 # randomly chosen truth\n",
    "b = 4.507 \n",
    "\n",
    "x = np.random.uniform(0, 2., n)\n",
    "x.sort() # sort the values in place\n",
    "\n",
    "# evaluate the true model at the given x values\n",
    "y = m*x + b\n",
    "\n",
    "# Heteroscedastic Gaussian uncertainties only in y direction\n",
    "y_err = np.random.uniform(0.1, 0.2, size=n) # randomly generate uncertainty for each datum\n",
    "y = np.random.normal(y, y_err) # re-sample y data with noise\n",
    "\n",
    "datastyle = dict(linestyle='none', marker='o', color='k', ecolor='#666666')\n",
    "plt.errorbar(x, y, y_err,**datastyle)\n",
    "plt.xlabel('x')\n",
    "plt.ylabel('y')"
   ]
  },
  {
   "cell_type": "code",
   "execution_count": 98,
   "metadata": {},
   "outputs": [],
   "source": [
    "#Definimos una función que evalue un modelo de linea recta en los valores x\n",
    "# la variabele pars contiene los valores de los parametros m, b de la recta\n",
    "def LineaRecta(pars, x):\n",
    "    return pars[0]*np.array(x) + pars[1]"
   ]
  },
  {
   "cell_type": "code",
   "execution_count": 99,
   "metadata": {},
   "outputs": [],
   "source": [
    "\n",
    "\n",
    "class ModeloLineaRecta(object):\n",
    "    \n",
    "    def __init__(self, x, y, y_err):\n",
    "        \"\"\" \n",
    "        We store the data as attributes of the object so we don't have to \n",
    "        keep passing it in to the methods that compute the probabilities.\n",
    "        \"\"\"\n",
    "        self.x = np.asarray(x)\n",
    "        self.y = np.asarray(y)\n",
    "        self.y_err = np.asarray(y_err)\n",
    "\n",
    "    def ln_likelihood(self, pars):\n",
    "        \"\"\"\n",
    "        We don't need to pass in the data because we can access it from the\n",
    "        attributes. This is basically the same as the weighted squared \n",
    "        deviation function, but includes the constant normalizations for the\n",
    "        Gaussian likelihood.\n",
    "        \"\"\"\n",
    "        N = len(self.y)\n",
    "        dy = self.y - LineaRecta(pars, self.x)\n",
    "        ivar = 1 / self.y_err**2 # inverse-variance\n",
    "        return -0.5 * (N*np.log(2*np.pi) + np.sum(2*np.log(self.y_err)) + np.sum(dy**2 * ivar))\n",
    "\n",
    "    def ln_prior(self, pars):\n",
    "        \"\"\" \n",
    "        The prior only depends on the parameters, so we don't need to touch\n",
    "        the data at all. We're going to implement a flat (uniform) prior \n",
    "        over the ranges:\n",
    "            a : [0, 100]\n",
    "            b : [-50, 50]\n",
    "        \n",
    "        \"\"\"\n",
    "        \n",
    "        m, b = pars # unpack parameters\n",
    "        ln_prior_val = 0. # we'll add to this\n",
    "\n",
    "        if m < 0 or m > 100.:\n",
    "            return -np.inf\n",
    "        else:\n",
    "            ln_prior_val += np.log(1E-2) # normalization, log(1/100)\n",
    "\n",
    "        if m < -50 or m > 50.:\n",
    "            return -np.inf\n",
    "        else:\n",
    "            ln_prior_val += np.log(1E-2) # normalization, log(1/100)\n",
    "\n",
    "        return ln_prior_val\n",
    "\n",
    "    def ln_posterior(self, pars):\n",
    "        \"\"\" \n",
    "        Up to a normalization constant, the log of the posterior pdf is just \n",
    "        the sum of the log likelihood plus the log prior.\n",
    "        \"\"\"\n",
    "        lnp = self.ln_prior(pars)\n",
    "        if np.isinf(lnp): # short-circuit if the prior is infinite (don't bother computing likelihood)\n",
    "            return lnp\n",
    "\n",
    "        lnL = self.ln_likelihood(pars)\n",
    "        lnprob = lnp + lnL\n",
    "\n",
    "        if np.isnan(lnprob):\n",
    "            return -np.inf\n",
    "\n",
    "        return lnprob\n",
    "    \n",
    "    def __call__(self, pars):\n",
    "        return self.ln_posterior(pars)\n",
    "\n",
    "modelo = ModeloLineaRecta(x, y, y_err)\n",
    "\n"
   ]
  },
  {
   "cell_type": "code",
   "execution_count": 96,
   "metadata": {},
   "outputs": [],
   "source": [
    "def sample_proposal(*sigmas):\n",
    "    return np.random.normal(0., sigmas)\n",
    "\n",
    "def MCMC(p_init, N_iter, modelo, proposal_sigmas):\n",
    "    \"\"\"\n",
    "    Run a Metropolis-Hastings MCMC sampler to generate samples from the input\n",
    "    log-posterior function, starting from some initial parameter vector.\n",
    "    \n",
    "    Parameters\n",
    "    ----------\n",
    "    p0 : iterable\n",
    "        Initial parameter vector.\n",
    "    n_steps : int\n",
    "        Number of steps to run the sampler for.\n",
    "    model : StraightLineModel instance (or subclass)\n",
    "        A callable object that takes a parameter vector and computes \n",
    "        the log of the posterior pdf.\n",
    "    proposal_sigmas : list, array\n",
    "        A list of standard-deviations passed to the sample_proposal \n",
    "        function. These are like step sizes in each of the parameters.\n",
    "    \"\"\"\n",
    "    p_init = np.array(p_init)\n",
    "    if len(proposal_sigmas) != len(p_init):\n",
    "        raise ValueError(\"Proposal distribution should have same shape as parameter vector.\")\n",
    "    \n",
    "    # the objects we'll fill and return:\n",
    "    chain = np.zeros((N_iter, len(p_init))) # parameter values at each step\n",
    "    ln_probs = np.zeros(N_iter) # log-probability values at each step\n",
    "    \n",
    "    # we'll keep track of how many steps we accept to compute the acceptance fraction                        \n",
    "    n_accept = 0 \n",
    "    \n",
    "    # evaluate the log-posterior at the initial position and store starting position in chain\n",
    "    ln_probs[0] = modelo(p_init)\n",
    "    chain[0] = p_init\n",
    "    \n",
    "    # loop through the number of steps requested and run MCMC\n",
    "    for i in range(1,N_iter):\n",
    "        # proposed new parameters\n",
    "        step = sample_proposal(*proposal_sigmas)\n",
    "        new_p = chain[i-1] + step\n",
    "        \n",
    "        # compute log-posterior at new parameter values\n",
    "        new_ln_prob = modelo(new_p)\n",
    "        \n",
    "        # log of the ratio of the new log-posterior to the previous log-posterior value\n",
    "        ln_prob_ratio = new_ln_prob - ln_probs[i-1]\n",
    "        \n",
    "        if (ln_prob_ratio > 0) or (ln_prob_ratio > np.log(np.random.uniform())):\n",
    "            chain[i] = new_p\n",
    "            ln_probs[i] = new_ln_prob\n",
    "            n_accept += 1\n",
    "            \n",
    "        else:\n",
    "            chain[i] = chain[i-1]\n",
    "            ln_probs[i] = ln_probs[i-1]\n",
    "    \n",
    "    acc_frac = n_accept / N_iter\n",
    "    return chain, ln_probs, acc_frac"
   ]
  },
  {
   "cell_type": "code",
   "execution_count": 100,
   "metadata": {},
   "outputs": [
    {
     "name": "stdout",
     "output_type": "stream",
     "text": [
      "Acceptance fraction: 40.5%\n"
     ]
    }
   ],
   "source": [
    "p_init = [6.,6.]\n",
    "chain,_,acc_frac = MCMC(p_init, N_iter=10000, modelo=modelo, proposal_sigmas=[0.05,0.05])\n",
    "print(\"Acceptance fraction: {:.1%}\".format(acc_frac))"
   ]
  },
  {
   "cell_type": "code",
   "execution_count": 104,
   "metadata": {},
   "outputs": [
    {
     "data": {
      "text/plain": [
       "Text(0, 0.5, '$b$')"
      ]
     },
     "execution_count": 104,
     "metadata": {},
     "output_type": "execute_result"
    },
    {
     "data": {
      "image/png": "[encoded data removed]",
      "text/plain": [
       "<Figure size 360x360 with 1 Axes>"
      ]
     },
     "metadata": {
      "needs_background": "light"
     },
     "output_type": "display_data"
    }
   ],
   "source": [
    "fig,ax = plt.subplots(1, 1, figsize=(5,5))\n",
    "ax.plot(m, b, marker='o', zorder=10, color='#de2d26')\n",
    "#ax.plot(chain[:512,0], chain[:512,1], marker='', color='k', linewidth=1.)\n",
    "\n",
    "plt.scatter(chain[:512,0], chain[:512,1], c='b')\n",
    "ax.set_xlabel('$m$')\n",
    "ax.set_ylabel('$b$')"
   ]
  }
 ],
 "metadata": {
  "kernelspec": {
   "display_name": "Python 3",
   "language": "python",
   "name": "python3"
  },
  "language_info": {
   "codemirror_mode": {
    "name": "ipython",
    "version": 3
   },
   "file_extension": ".py",
   "mimetype": "text/x-python",
   "name": "python",
   "nbconvert_exporter": "python",
   "pygments_lexer": "ipython3",
   "version": "3.6.10"
  }
 },
 "nbformat": 4,
 "nbformat_minor": 4
}
